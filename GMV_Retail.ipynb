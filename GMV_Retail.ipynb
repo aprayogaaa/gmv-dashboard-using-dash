{
 "cells": [
  {
   "cell_type": "markdown",
   "metadata": {},
   "source": [
    "### Dataset"
   ]
  },
  {
   "cell_type": "markdown",
   "metadata": {},
   "source": [
    "The following is a display of supermarket transaction data throughout 2019, complete with an explanation for each column.\n",
    "* `order_id` : ID dari order/transaksi, 1 transaksi bisa terdiri dari beberapa produk, tetapi hanya dilakukan oleh 1 customer\n",
    "* `order_date` : tanggal terjadinya transaksi\n",
    "* `customer_id` : ID dari pembeli, bisa jadi dalam satu hari, 1 customer melakukan transaksi beberapa kali\n",
    "* `city` : kota tempat toko terjadinya transaksi\n",
    "* `province` : provinsi (berdasarkan city)\n",
    "* `product_id` : ID dari suatu product yang dibeli\n",
    "* `brand` : brand/merk dari product. Suatu product yang sama pasti memiliki brand yang sama\n",
    "* `quantity` : Kuantitas/banyaknya product yang dibeli\n",
    "* `item_price` : Harga dari 1 product (dalam Rupiah). Suatu product yang sama, bisa jadi memiliki harga yang berbeda saat dibeli\n",
    "\n",
    "\n",
    "location data:\n",
    "https://storage.googleapis.com/dqlab-dataset/retail_raw_reduced.csv"
   ]
  },
  {
   "cell_type": "markdown",
   "metadata": {},
   "source": [
    "### Import Library"
   ]
  },
  {
   "cell_type": "code",
   "execution_count": 1,
   "metadata": {},
   "outputs": [],
   "source": [
    "import pandas as pd\n",
    "import plotly.express as px\n",
    "import plotly.graph_objects as go\n",
    "import dash\n",
    "from dash import html\n",
    "from dash import dcc\n",
    "from dash import Input\n",
    "from dash import Output"
   ]
  },
  {
   "cell_type": "markdown",
   "metadata": {},
   "source": [
    "### Data Preparation"
   ]
  },
  {
   "cell_type": "code",
   "execution_count": 2,
   "metadata": {},
   "outputs": [],
   "source": [
    "df = pd.read_csv('https://storage.googleapis.com/dqlab-dataset/retail_raw_reduced.csv')"
   ]
  },
  {
   "cell_type": "code",
   "execution_count": 3,
   "metadata": {},
   "outputs": [
    {
     "data": {
      "text/html": [
       "<div>\n",
       "<style scoped>\n",
       "    .dataframe tbody tr th:only-of-type {\n",
       "        vertical-align: middle;\n",
       "    }\n",
       "\n",
       "    .dataframe tbody tr th {\n",
       "        vertical-align: top;\n",
       "    }\n",
       "\n",
       "    .dataframe thead th {\n",
       "        text-align: right;\n",
       "    }\n",
       "</style>\n",
       "<table border=\"1\" class=\"dataframe\">\n",
       "  <thead>\n",
       "    <tr style=\"text-align: right;\">\n",
       "      <th></th>\n",
       "      <th>order_id</th>\n",
       "      <th>order_date</th>\n",
       "      <th>customer_id</th>\n",
       "      <th>city</th>\n",
       "      <th>province</th>\n",
       "      <th>product_id</th>\n",
       "      <th>brand</th>\n",
       "      <th>quantity</th>\n",
       "      <th>item_price</th>\n",
       "    </tr>\n",
       "  </thead>\n",
       "  <tbody>\n",
       "    <tr>\n",
       "      <th>0</th>\n",
       "      <td>1703458</td>\n",
       "      <td>2019-10-17</td>\n",
       "      <td>14004</td>\n",
       "      <td>Jakarta Selatan</td>\n",
       "      <td>DKI Jakarta</td>\n",
       "      <td>P1910</td>\n",
       "      <td>BRAND_J</td>\n",
       "      <td>10</td>\n",
       "      <td>740000</td>\n",
       "    </tr>\n",
       "    <tr>\n",
       "      <th>1</th>\n",
       "      <td>1706815</td>\n",
       "      <td>2019-10-24</td>\n",
       "      <td>17220</td>\n",
       "      <td>Jakarta Selatan</td>\n",
       "      <td>DKI Jakarta</td>\n",
       "      <td>P2934</td>\n",
       "      <td>BRAND_R</td>\n",
       "      <td>2</td>\n",
       "      <td>604000</td>\n",
       "    </tr>\n",
       "    <tr>\n",
       "      <th>2</th>\n",
       "      <td>1710718</td>\n",
       "      <td>2019-11-03</td>\n",
       "      <td>16518</td>\n",
       "      <td>Jakarta Utara</td>\n",
       "      <td>DKI Jakarta</td>\n",
       "      <td>P0908</td>\n",
       "      <td>BRAND_C</td>\n",
       "      <td>8</td>\n",
       "      <td>1045000</td>\n",
       "    </tr>\n",
       "    <tr>\n",
       "      <th>3</th>\n",
       "      <td>1683592</td>\n",
       "      <td>2019-08-19</td>\n",
       "      <td>16364</td>\n",
       "      <td>Jakarta Barat</td>\n",
       "      <td>DKI Jakarta</td>\n",
       "      <td>P0128</td>\n",
       "      <td>BRAND_A</td>\n",
       "      <td>4</td>\n",
       "      <td>205000</td>\n",
       "    </tr>\n",
       "    <tr>\n",
       "      <th>4</th>\n",
       "      <td>1702573</td>\n",
       "      <td>2019-10-16</td>\n",
       "      <td>15696</td>\n",
       "      <td>Jakarta Timur</td>\n",
       "      <td>DKI Jakarta</td>\n",
       "      <td>P2968</td>\n",
       "      <td>BRAND_R</td>\n",
       "      <td>2</td>\n",
       "      <td>4475000</td>\n",
       "    </tr>\n",
       "  </tbody>\n",
       "</table>\n",
       "</div>"
      ],
      "text/plain": [
       "   order_id  order_date  customer_id             city     province product_id  \\\n",
       "0   1703458  2019-10-17        14004  Jakarta Selatan  DKI Jakarta      P1910   \n",
       "1   1706815  2019-10-24        17220  Jakarta Selatan  DKI Jakarta      P2934   \n",
       "2   1710718  2019-11-03        16518    Jakarta Utara  DKI Jakarta      P0908   \n",
       "3   1683592  2019-08-19        16364    Jakarta Barat  DKI Jakarta      P0128   \n",
       "4   1702573  2019-10-16        15696    Jakarta Timur  DKI Jakarta      P2968   \n",
       "\n",
       "     brand  quantity  item_price  \n",
       "0  BRAND_J        10      740000  \n",
       "1  BRAND_R         2      604000  \n",
       "2  BRAND_C         8     1045000  \n",
       "3  BRAND_A         4      205000  \n",
       "4  BRAND_R         2     4475000  "
      ]
     },
     "execution_count": 3,
     "metadata": {},
     "output_type": "execute_result"
    }
   ],
   "source": [
    "df.head()"
   ]
  },
  {
   "cell_type": "code",
   "execution_count": 4,
   "metadata": {},
   "outputs": [
    {
     "name": "stdout",
     "output_type": "stream",
     "text": [
      "<class 'pandas.core.frame.DataFrame'>\n",
      "RangeIndex: 5000 entries, 0 to 4999\n",
      "Data columns (total 9 columns):\n",
      " #   Column       Non-Null Count  Dtype \n",
      "---  ------       --------------  ----- \n",
      " 0   order_id     5000 non-null   int64 \n",
      " 1   order_date   5000 non-null   object\n",
      " 2   customer_id  5000 non-null   int64 \n",
      " 3   city         5000 non-null   object\n",
      " 4   province     5000 non-null   object\n",
      " 5   product_id   5000 non-null   object\n",
      " 6   brand        5000 non-null   object\n",
      " 7   quantity     5000 non-null   int64 \n",
      " 8   item_price   5000 non-null   int64 \n",
      "dtypes: int64(4), object(5)\n",
      "memory usage: 351.7+ KB\n"
     ]
    }
   ],
   "source": [
    "df.info()"
   ]
  },
  {
   "cell_type": "markdown",
   "metadata": {},
   "source": [
    "### Exploratory Data Analysis"
   ]
  },
  {
   "cell_type": "markdown",
   "metadata": {},
   "source": [
    "Grouping data for GMV based on month by month"
   ]
  },
  {
   "cell_type": "code",
   "execution_count": 5,
   "metadata": {},
   "outputs": [
    {
     "data": {
      "text/html": [
       "<div>\n",
       "<style scoped>\n",
       "    .dataframe tbody tr th:only-of-type {\n",
       "        vertical-align: middle;\n",
       "    }\n",
       "\n",
       "    .dataframe tbody tr th {\n",
       "        vertical-align: top;\n",
       "    }\n",
       "\n",
       "    .dataframe thead th {\n",
       "        text-align: right;\n",
       "    }\n",
       "</style>\n",
       "<table border=\"1\" class=\"dataframe\">\n",
       "  <thead>\n",
       "    <tr style=\"text-align: right;\">\n",
       "      <th></th>\n",
       "      <th>order_id</th>\n",
       "      <th>order_date</th>\n",
       "      <th>customer_id</th>\n",
       "      <th>city</th>\n",
       "      <th>province</th>\n",
       "      <th>product_id</th>\n",
       "      <th>brand</th>\n",
       "      <th>quantity</th>\n",
       "      <th>item_price</th>\n",
       "      <th>gmv</th>\n",
       "    </tr>\n",
       "  </thead>\n",
       "  <tbody>\n",
       "    <tr>\n",
       "      <th>0</th>\n",
       "      <td>1703458</td>\n",
       "      <td>2019-10-17</td>\n",
       "      <td>14004</td>\n",
       "      <td>Jakarta Selatan</td>\n",
       "      <td>DKI Jakarta</td>\n",
       "      <td>P1910</td>\n",
       "      <td>BRAND_J</td>\n",
       "      <td>10</td>\n",
       "      <td>740000</td>\n",
       "      <td>7400000</td>\n",
       "    </tr>\n",
       "    <tr>\n",
       "      <th>1</th>\n",
       "      <td>1706815</td>\n",
       "      <td>2019-10-24</td>\n",
       "      <td>17220</td>\n",
       "      <td>Jakarta Selatan</td>\n",
       "      <td>DKI Jakarta</td>\n",
       "      <td>P2934</td>\n",
       "      <td>BRAND_R</td>\n",
       "      <td>2</td>\n",
       "      <td>604000</td>\n",
       "      <td>1208000</td>\n",
       "    </tr>\n",
       "    <tr>\n",
       "      <th>2</th>\n",
       "      <td>1710718</td>\n",
       "      <td>2019-11-03</td>\n",
       "      <td>16518</td>\n",
       "      <td>Jakarta Utara</td>\n",
       "      <td>DKI Jakarta</td>\n",
       "      <td>P0908</td>\n",
       "      <td>BRAND_C</td>\n",
       "      <td>8</td>\n",
       "      <td>1045000</td>\n",
       "      <td>8360000</td>\n",
       "    </tr>\n",
       "    <tr>\n",
       "      <th>3</th>\n",
       "      <td>1683592</td>\n",
       "      <td>2019-08-19</td>\n",
       "      <td>16364</td>\n",
       "      <td>Jakarta Barat</td>\n",
       "      <td>DKI Jakarta</td>\n",
       "      <td>P0128</td>\n",
       "      <td>BRAND_A</td>\n",
       "      <td>4</td>\n",
       "      <td>205000</td>\n",
       "      <td>820000</td>\n",
       "    </tr>\n",
       "    <tr>\n",
       "      <th>4</th>\n",
       "      <td>1702573</td>\n",
       "      <td>2019-10-16</td>\n",
       "      <td>15696</td>\n",
       "      <td>Jakarta Timur</td>\n",
       "      <td>DKI Jakarta</td>\n",
       "      <td>P2968</td>\n",
       "      <td>BRAND_R</td>\n",
       "      <td>2</td>\n",
       "      <td>4475000</td>\n",
       "      <td>8950000</td>\n",
       "    </tr>\n",
       "  </tbody>\n",
       "</table>\n",
       "</div>"
      ],
      "text/plain": [
       "   order_id  order_date  customer_id             city     province product_id  \\\n",
       "0   1703458  2019-10-17        14004  Jakarta Selatan  DKI Jakarta      P1910   \n",
       "1   1706815  2019-10-24        17220  Jakarta Selatan  DKI Jakarta      P2934   \n",
       "2   1710718  2019-11-03        16518    Jakarta Utara  DKI Jakarta      P0908   \n",
       "3   1683592  2019-08-19        16364    Jakarta Barat  DKI Jakarta      P0128   \n",
       "4   1702573  2019-10-16        15696    Jakarta Timur  DKI Jakarta      P2968   \n",
       "\n",
       "     brand  quantity  item_price      gmv  \n",
       "0  BRAND_J        10      740000  7400000  \n",
       "1  BRAND_R         2      604000  1208000  \n",
       "2  BRAND_C         8     1045000  8360000  \n",
       "3  BRAND_A         4      205000   820000  \n",
       "4  BRAND_R         2     4475000  8950000  "
      ]
     },
     "execution_count": 5,
     "metadata": {},
     "output_type": "execute_result"
    }
   ],
   "source": [
    "df['gmv'] = df['item_price'] * df['quantity']\n",
    "df.head()\n",
    " "
   ]
  },
  {
   "cell_type": "code",
   "execution_count": 6,
   "metadata": {},
   "outputs": [
    {
     "data": {
      "text/html": [
       "<div>\n",
       "<style scoped>\n",
       "    .dataframe tbody tr th:only-of-type {\n",
       "        vertical-align: middle;\n",
       "    }\n",
       "\n",
       "    .dataframe tbody tr th {\n",
       "        vertical-align: top;\n",
       "    }\n",
       "\n",
       "    .dataframe thead th {\n",
       "        text-align: right;\n",
       "    }\n",
       "</style>\n",
       "<table border=\"1\" class=\"dataframe\">\n",
       "  <thead>\n",
       "    <tr style=\"text-align: right;\">\n",
       "      <th></th>\n",
       "      <th>order_id</th>\n",
       "      <th>order_date</th>\n",
       "      <th>customer_id</th>\n",
       "      <th>city</th>\n",
       "      <th>province</th>\n",
       "      <th>product_id</th>\n",
       "      <th>brand</th>\n",
       "      <th>quantity</th>\n",
       "      <th>item_price</th>\n",
       "      <th>gmv</th>\n",
       "      <th>order_month</th>\n",
       "    </tr>\n",
       "  </thead>\n",
       "  <tbody>\n",
       "    <tr>\n",
       "      <th>0</th>\n",
       "      <td>1703458</td>\n",
       "      <td>2019-10-17</td>\n",
       "      <td>14004</td>\n",
       "      <td>Jakarta Selatan</td>\n",
       "      <td>DKI Jakarta</td>\n",
       "      <td>P1910</td>\n",
       "      <td>BRAND_J</td>\n",
       "      <td>10</td>\n",
       "      <td>740000</td>\n",
       "      <td>7400000</td>\n",
       "      <td>2019-10</td>\n",
       "    </tr>\n",
       "    <tr>\n",
       "      <th>1</th>\n",
       "      <td>1706815</td>\n",
       "      <td>2019-10-24</td>\n",
       "      <td>17220</td>\n",
       "      <td>Jakarta Selatan</td>\n",
       "      <td>DKI Jakarta</td>\n",
       "      <td>P2934</td>\n",
       "      <td>BRAND_R</td>\n",
       "      <td>2</td>\n",
       "      <td>604000</td>\n",
       "      <td>1208000</td>\n",
       "      <td>2019-10</td>\n",
       "    </tr>\n",
       "    <tr>\n",
       "      <th>2</th>\n",
       "      <td>1710718</td>\n",
       "      <td>2019-11-03</td>\n",
       "      <td>16518</td>\n",
       "      <td>Jakarta Utara</td>\n",
       "      <td>DKI Jakarta</td>\n",
       "      <td>P0908</td>\n",
       "      <td>BRAND_C</td>\n",
       "      <td>8</td>\n",
       "      <td>1045000</td>\n",
       "      <td>8360000</td>\n",
       "      <td>2019-11</td>\n",
       "    </tr>\n",
       "    <tr>\n",
       "      <th>3</th>\n",
       "      <td>1683592</td>\n",
       "      <td>2019-08-19</td>\n",
       "      <td>16364</td>\n",
       "      <td>Jakarta Barat</td>\n",
       "      <td>DKI Jakarta</td>\n",
       "      <td>P0128</td>\n",
       "      <td>BRAND_A</td>\n",
       "      <td>4</td>\n",
       "      <td>205000</td>\n",
       "      <td>820000</td>\n",
       "      <td>2019-08</td>\n",
       "    </tr>\n",
       "    <tr>\n",
       "      <th>4</th>\n",
       "      <td>1702573</td>\n",
       "      <td>2019-10-16</td>\n",
       "      <td>15696</td>\n",
       "      <td>Jakarta Timur</td>\n",
       "      <td>DKI Jakarta</td>\n",
       "      <td>P2968</td>\n",
       "      <td>BRAND_R</td>\n",
       "      <td>2</td>\n",
       "      <td>4475000</td>\n",
       "      <td>8950000</td>\n",
       "      <td>2019-10</td>\n",
       "    </tr>\n",
       "  </tbody>\n",
       "</table>\n",
       "</div>"
      ],
      "text/plain": [
       "   order_id  order_date  customer_id             city     province product_id  \\\n",
       "0   1703458  2019-10-17        14004  Jakarta Selatan  DKI Jakarta      P1910   \n",
       "1   1706815  2019-10-24        17220  Jakarta Selatan  DKI Jakarta      P2934   \n",
       "2   1710718  2019-11-03        16518    Jakarta Utara  DKI Jakarta      P0908   \n",
       "3   1683592  2019-08-19        16364    Jakarta Barat  DKI Jakarta      P0128   \n",
       "4   1702573  2019-10-16        15696    Jakarta Timur  DKI Jakarta      P2968   \n",
       "\n",
       "     brand  quantity  item_price      gmv order_month  \n",
       "0  BRAND_J        10      740000  7400000     2019-10  \n",
       "1  BRAND_R         2      604000  1208000     2019-10  \n",
       "2  BRAND_C         8     1045000  8360000     2019-11  \n",
       "3  BRAND_A         4      205000   820000     2019-08  \n",
       "4  BRAND_R         2     4475000  8950000     2019-10  "
      ]
     },
     "execution_count": 6,
     "metadata": {},
     "output_type": "execute_result"
    }
   ],
   "source": [
    "df['order_month'] = df['order_date'].str.slice(0, 7)\n",
    "df.head()"
   ]
  },
  {
   "cell_type": "code",
   "execution_count": 7,
   "metadata": {},
   "outputs": [
    {
     "data": {
      "text/html": [
       "<div>\n",
       "<style scoped>\n",
       "    .dataframe tbody tr th:only-of-type {\n",
       "        vertical-align: middle;\n",
       "    }\n",
       "\n",
       "    .dataframe tbody tr th {\n",
       "        vertical-align: top;\n",
       "    }\n",
       "\n",
       "    .dataframe thead th {\n",
       "        text-align: right;\n",
       "    }\n",
       "</style>\n",
       "<table border=\"1\" class=\"dataframe\">\n",
       "  <thead>\n",
       "    <tr style=\"text-align: right;\">\n",
       "      <th></th>\n",
       "      <th>province</th>\n",
       "      <th>gmv</th>\n",
       "    </tr>\n",
       "  </thead>\n",
       "  <tbody>\n",
       "    <tr>\n",
       "      <th>2</th>\n",
       "      <td>DKI Jakarta</td>\n",
       "      <td>14902763000</td>\n",
       "    </tr>\n",
       "    <tr>\n",
       "      <th>3</th>\n",
       "      <td>Jawa Barat</td>\n",
       "      <td>6128149000</td>\n",
       "    </tr>\n",
       "    <tr>\n",
       "      <th>4</th>\n",
       "      <td>Jawa Tengah</td>\n",
       "      <td>3485884000</td>\n",
       "    </tr>\n",
       "    <tr>\n",
       "      <th>6</th>\n",
       "      <td>Yogyakarta</td>\n",
       "      <td>3111241000</td>\n",
       "    </tr>\n",
       "    <tr>\n",
       "      <th>5</th>\n",
       "      <td>Jawa Timur</td>\n",
       "      <td>2649486000</td>\n",
       "    </tr>\n",
       "    <tr>\n",
       "      <th>1</th>\n",
       "      <td>Banten</td>\n",
       "      <td>1495632000</td>\n",
       "    </tr>\n",
       "    <tr>\n",
       "      <th>0</th>\n",
       "      <td>Bali</td>\n",
       "      <td>1201212000</td>\n",
       "    </tr>\n",
       "  </tbody>\n",
       "</table>\n",
       "</div>"
      ],
      "text/plain": [
       "      province          gmv\n",
       "2  DKI Jakarta  14902763000\n",
       "3   Jawa Barat   6128149000\n",
       "4  Jawa Tengah   3485884000\n",
       "6   Yogyakarta   3111241000\n",
       "5   Jawa Timur   2649486000\n",
       "1       Banten   1495632000\n",
       "0         Bali   1201212000"
      ]
     },
     "execution_count": 7,
     "metadata": {},
     "output_type": "execute_result"
    }
   ],
   "source": [
    "df_grouped_gmv = df.groupby('province')['gmv'].sum().reset_index()\n",
    "df_grouped_gmv.sort_values(by='gmv', ascending=False)"
   ]
  },
  {
   "cell_type": "code",
   "execution_count": 8,
   "metadata": {},
   "outputs": [
    {
     "data": {
      "text/html": [
       "<div>\n",
       "<style scoped>\n",
       "    .dataframe tbody tr th:only-of-type {\n",
       "        vertical-align: middle;\n",
       "    }\n",
       "\n",
       "    .dataframe tbody tr th {\n",
       "        vertical-align: top;\n",
       "    }\n",
       "\n",
       "    .dataframe thead th {\n",
       "        text-align: right;\n",
       "    }\n",
       "</style>\n",
       "<table border=\"1\" class=\"dataframe\">\n",
       "  <thead>\n",
       "    <tr style=\"text-align: right;\">\n",
       "      <th></th>\n",
       "      <th>order_month</th>\n",
       "      <th>city</th>\n",
       "      <th>gmv</th>\n",
       "    </tr>\n",
       "  </thead>\n",
       "  <tbody>\n",
       "    <tr>\n",
       "      <th>0</th>\n",
       "      <td>2019-07</td>\n",
       "      <td>Jakarta Barat</td>\n",
       "      <td>241935000</td>\n",
       "    </tr>\n",
       "    <tr>\n",
       "      <th>1</th>\n",
       "      <td>2019-07</td>\n",
       "      <td>Jakarta Pusat</td>\n",
       "      <td>646077000</td>\n",
       "    </tr>\n",
       "    <tr>\n",
       "      <th>2</th>\n",
       "      <td>2019-07</td>\n",
       "      <td>Jakarta Selatan</td>\n",
       "      <td>578279000</td>\n",
       "    </tr>\n",
       "    <tr>\n",
       "      <th>3</th>\n",
       "      <td>2019-07</td>\n",
       "      <td>Jakarta Timur</td>\n",
       "      <td>167781000</td>\n",
       "    </tr>\n",
       "    <tr>\n",
       "      <th>4</th>\n",
       "      <td>2019-07</td>\n",
       "      <td>Jakarta Utara</td>\n",
       "      <td>317799000</td>\n",
       "    </tr>\n",
       "    <tr>\n",
       "      <th>5</th>\n",
       "      <td>2019-08</td>\n",
       "      <td>Jakarta Barat</td>\n",
       "      <td>236758000</td>\n",
       "    </tr>\n",
       "    <tr>\n",
       "      <th>6</th>\n",
       "      <td>2019-08</td>\n",
       "      <td>Jakarta Pusat</td>\n",
       "      <td>603726000</td>\n",
       "    </tr>\n",
       "    <tr>\n",
       "      <th>7</th>\n",
       "      <td>2019-08</td>\n",
       "      <td>Jakarta Selatan</td>\n",
       "      <td>802238000</td>\n",
       "    </tr>\n",
       "    <tr>\n",
       "      <th>8</th>\n",
       "      <td>2019-08</td>\n",
       "      <td>Jakarta Timur</td>\n",
       "      <td>148771000</td>\n",
       "    </tr>\n",
       "    <tr>\n",
       "      <th>9</th>\n",
       "      <td>2019-08</td>\n",
       "      <td>Jakarta Utara</td>\n",
       "      <td>222900000</td>\n",
       "    </tr>\n",
       "    <tr>\n",
       "      <th>10</th>\n",
       "      <td>2019-09</td>\n",
       "      <td>Jakarta Barat</td>\n",
       "      <td>183537000</td>\n",
       "    </tr>\n",
       "    <tr>\n",
       "      <th>11</th>\n",
       "      <td>2019-09</td>\n",
       "      <td>Jakarta Pusat</td>\n",
       "      <td>392814000</td>\n",
       "    </tr>\n",
       "    <tr>\n",
       "      <th>12</th>\n",
       "      <td>2019-09</td>\n",
       "      <td>Jakarta Selatan</td>\n",
       "      <td>443599000</td>\n",
       "    </tr>\n",
       "    <tr>\n",
       "      <th>13</th>\n",
       "      <td>2019-09</td>\n",
       "      <td>Jakarta Timur</td>\n",
       "      <td>143743000</td>\n",
       "    </tr>\n",
       "    <tr>\n",
       "      <th>14</th>\n",
       "      <td>2019-09</td>\n",
       "      <td>Jakarta Utara</td>\n",
       "      <td>306194000</td>\n",
       "    </tr>\n",
       "    <tr>\n",
       "      <th>15</th>\n",
       "      <td>2019-10</td>\n",
       "      <td>Jakarta Barat</td>\n",
       "      <td>375094000</td>\n",
       "    </tr>\n",
       "    <tr>\n",
       "      <th>16</th>\n",
       "      <td>2019-10</td>\n",
       "      <td>Jakarta Pusat</td>\n",
       "      <td>849294000</td>\n",
       "    </tr>\n",
       "    <tr>\n",
       "      <th>17</th>\n",
       "      <td>2019-10</td>\n",
       "      <td>Jakarta Selatan</td>\n",
       "      <td>1462272000</td>\n",
       "    </tr>\n",
       "    <tr>\n",
       "      <th>18</th>\n",
       "      <td>2019-10</td>\n",
       "      <td>Jakarta Timur</td>\n",
       "      <td>348055000</td>\n",
       "    </tr>\n",
       "    <tr>\n",
       "      <th>19</th>\n",
       "      <td>2019-10</td>\n",
       "      <td>Jakarta Utara</td>\n",
       "      <td>237436000</td>\n",
       "    </tr>\n",
       "    <tr>\n",
       "      <th>20</th>\n",
       "      <td>2019-11</td>\n",
       "      <td>Jakarta Barat</td>\n",
       "      <td>429780000</td>\n",
       "    </tr>\n",
       "    <tr>\n",
       "      <th>21</th>\n",
       "      <td>2019-11</td>\n",
       "      <td>Jakarta Pusat</td>\n",
       "      <td>764062000</td>\n",
       "    </tr>\n",
       "    <tr>\n",
       "      <th>22</th>\n",
       "      <td>2019-11</td>\n",
       "      <td>Jakarta Selatan</td>\n",
       "      <td>982906000</td>\n",
       "    </tr>\n",
       "    <tr>\n",
       "      <th>23</th>\n",
       "      <td>2019-11</td>\n",
       "      <td>Jakarta Timur</td>\n",
       "      <td>296121000</td>\n",
       "    </tr>\n",
       "    <tr>\n",
       "      <th>24</th>\n",
       "      <td>2019-11</td>\n",
       "      <td>Jakarta Utara</td>\n",
       "      <td>262095000</td>\n",
       "    </tr>\n",
       "    <tr>\n",
       "      <th>25</th>\n",
       "      <td>2019-12</td>\n",
       "      <td>Jakarta Barat</td>\n",
       "      <td>575091000</td>\n",
       "    </tr>\n",
       "    <tr>\n",
       "      <th>26</th>\n",
       "      <td>2019-12</td>\n",
       "      <td>Jakarta Pusat</td>\n",
       "      <td>751942000</td>\n",
       "    </tr>\n",
       "    <tr>\n",
       "      <th>27</th>\n",
       "      <td>2019-12</td>\n",
       "      <td>Jakarta Selatan</td>\n",
       "      <td>984432000</td>\n",
       "    </tr>\n",
       "    <tr>\n",
       "      <th>28</th>\n",
       "      <td>2019-12</td>\n",
       "      <td>Jakarta Timur</td>\n",
       "      <td>519470000</td>\n",
       "    </tr>\n",
       "    <tr>\n",
       "      <th>29</th>\n",
       "      <td>2019-12</td>\n",
       "      <td>Jakarta Utara</td>\n",
       "      <td>628562000</td>\n",
       "    </tr>\n",
       "  </tbody>\n",
       "</table>\n",
       "</div>"
      ],
      "text/plain": [
       "   order_month             city         gmv\n",
       "0      2019-07    Jakarta Barat   241935000\n",
       "1      2019-07    Jakarta Pusat   646077000\n",
       "2      2019-07  Jakarta Selatan   578279000\n",
       "3      2019-07    Jakarta Timur   167781000\n",
       "4      2019-07    Jakarta Utara   317799000\n",
       "5      2019-08    Jakarta Barat   236758000\n",
       "6      2019-08    Jakarta Pusat   603726000\n",
       "7      2019-08  Jakarta Selatan   802238000\n",
       "8      2019-08    Jakarta Timur   148771000\n",
       "9      2019-08    Jakarta Utara   222900000\n",
       "10     2019-09    Jakarta Barat   183537000\n",
       "11     2019-09    Jakarta Pusat   392814000\n",
       "12     2019-09  Jakarta Selatan   443599000\n",
       "13     2019-09    Jakarta Timur   143743000\n",
       "14     2019-09    Jakarta Utara   306194000\n",
       "15     2019-10    Jakarta Barat   375094000\n",
       "16     2019-10    Jakarta Pusat   849294000\n",
       "17     2019-10  Jakarta Selatan  1462272000\n",
       "18     2019-10    Jakarta Timur   348055000\n",
       "19     2019-10    Jakarta Utara   237436000\n",
       "20     2019-11    Jakarta Barat   429780000\n",
       "21     2019-11    Jakarta Pusat   764062000\n",
       "22     2019-11  Jakarta Selatan   982906000\n",
       "23     2019-11    Jakarta Timur   296121000\n",
       "24     2019-11    Jakarta Utara   262095000\n",
       "25     2019-12    Jakarta Barat   575091000\n",
       "26     2019-12    Jakarta Pusat   751942000\n",
       "27     2019-12  Jakarta Selatan   984432000\n",
       "28     2019-12    Jakarta Timur   519470000\n",
       "29     2019-12    Jakarta Utara   628562000"
      ]
     },
     "execution_count": 8,
     "metadata": {},
     "output_type": "execute_result"
    }
   ],
   "source": [
    "df_montly_agg_by_city = df[df['province'] == 'DKI Jakarta']\n",
    "df_montly_agg_by_city = df_montly_agg_by_city.groupby(['order_month', 'city'])['gmv'].sum().reset_index()\n",
    "df_montly_agg_by_city"
   ]
  },
  {
   "cell_type": "code",
   "execution_count": 9,
   "metadata": {},
   "outputs": [
    {
     "data": {
      "application/vnd.plotly.v1+json": {
       "config": {
        "plotlyServerURL": "https://plot.ly"
       },
       "data": [
        {
         "hovertemplate": "city=Jakarta Barat<br>order_month=%{x}<br>gmv=%{y}<extra></extra>",
         "legendgroup": "Jakarta Barat",
         "line": {
          "color": "#636efa",
          "dash": "solid"
         },
         "marker": {
          "symbol": "circle"
         },
         "mode": "lines",
         "name": "Jakarta Barat",
         "orientation": "v",
         "showlegend": true,
         "type": "scatter",
         "x": [
          "2019-07",
          "2019-08",
          "2019-09",
          "2019-10",
          "2019-11",
          "2019-12"
         ],
         "xaxis": "x",
         "y": [
          241935000,
          236758000,
          183537000,
          375094000,
          429780000,
          575091000
         ],
         "yaxis": "y"
        },
        {
         "hovertemplate": "city=Jakarta Pusat<br>order_month=%{x}<br>gmv=%{y}<extra></extra>",
         "legendgroup": "Jakarta Pusat",
         "line": {
          "color": "#EF553B",
          "dash": "solid"
         },
         "marker": {
          "symbol": "circle"
         },
         "mode": "lines",
         "name": "Jakarta Pusat",
         "orientation": "v",
         "showlegend": true,
         "type": "scatter",
         "x": [
          "2019-07",
          "2019-08",
          "2019-09",
          "2019-10",
          "2019-11",
          "2019-12"
         ],
         "xaxis": "x",
         "y": [
          646077000,
          603726000,
          392814000,
          849294000,
          764062000,
          751942000
         ],
         "yaxis": "y"
        },
        {
         "hovertemplate": "city=Jakarta Selatan<br>order_month=%{x}<br>gmv=%{y}<extra></extra>",
         "legendgroup": "Jakarta Selatan",
         "line": {
          "color": "#00cc96",
          "dash": "solid"
         },
         "marker": {
          "symbol": "circle"
         },
         "mode": "lines",
         "name": "Jakarta Selatan",
         "orientation": "v",
         "showlegend": true,
         "type": "scatter",
         "x": [
          "2019-07",
          "2019-08",
          "2019-09",
          "2019-10",
          "2019-11",
          "2019-12"
         ],
         "xaxis": "x",
         "y": [
          578279000,
          802238000,
          443599000,
          1462272000,
          982906000,
          984432000
         ],
         "yaxis": "y"
        },
        {
         "hovertemplate": "city=Jakarta Timur<br>order_month=%{x}<br>gmv=%{y}<extra></extra>",
         "legendgroup": "Jakarta Timur",
         "line": {
          "color": "#ab63fa",
          "dash": "solid"
         },
         "marker": {
          "symbol": "circle"
         },
         "mode": "lines",
         "name": "Jakarta Timur",
         "orientation": "v",
         "showlegend": true,
         "type": "scatter",
         "x": [
          "2019-07",
          "2019-08",
          "2019-09",
          "2019-10",
          "2019-11",
          "2019-12"
         ],
         "xaxis": "x",
         "y": [
          167781000,
          148771000,
          143743000,
          348055000,
          296121000,
          519470000
         ],
         "yaxis": "y"
        },
        {
         "hovertemplate": "city=Jakarta Utara<br>order_month=%{x}<br>gmv=%{y}<extra></extra>",
         "legendgroup": "Jakarta Utara",
         "line": {
          "color": "#FFA15A",
          "dash": "solid"
         },
         "marker": {
          "symbol": "circle"
         },
         "mode": "lines",
         "name": "Jakarta Utara",
         "orientation": "v",
         "showlegend": true,
         "type": "scatter",
         "x": [
          "2019-07",
          "2019-08",
          "2019-09",
          "2019-10",
          "2019-11",
          "2019-12"
         ],
         "xaxis": "x",
         "y": [
          317799000,
          222900000,
          306194000,
          237436000,
          262095000,
          628562000
         ],
         "yaxis": "y"
        }
       ],
       "layout": {
        "legend": {
         "font": {
          "color": "#FFFFFF"
         },
         "title": {
          "text": "city"
         },
         "tracegroupgap": 0
        },
        "margin": {
         "t": 60
        },
        "paper_bgcolor": "#000000",
        "template": {
         "data": {
          "bar": [
           {
            "error_x": {
             "color": "#2a3f5f"
            },
            "error_y": {
             "color": "#2a3f5f"
            },
            "marker": {
             "line": {
              "color": "#E5ECF6",
              "width": 0.5
             },
             "pattern": {
              "fillmode": "overlay",
              "size": 10,
              "solidity": 0.2
             }
            },
            "type": "bar"
           }
          ],
          "barpolar": [
           {
            "marker": {
             "line": {
              "color": "#E5ECF6",
              "width": 0.5
             },
             "pattern": {
              "fillmode": "overlay",
              "size": 10,
              "solidity": 0.2
             }
            },
            "type": "barpolar"
           }
          ],
          "carpet": [
           {
            "aaxis": {
             "endlinecolor": "#2a3f5f",
             "gridcolor": "white",
             "linecolor": "white",
             "minorgridcolor": "white",
             "startlinecolor": "#2a3f5f"
            },
            "baxis": {
             "endlinecolor": "#2a3f5f",
             "gridcolor": "white",
             "linecolor": "white",
             "minorgridcolor": "white",
             "startlinecolor": "#2a3f5f"
            },
            "type": "carpet"
           }
          ],
          "choropleth": [
           {
            "colorbar": {
             "outlinewidth": 0,
             "ticks": ""
            },
            "type": "choropleth"
           }
          ],
          "contour": [
           {
            "colorbar": {
             "outlinewidth": 0,
             "ticks": ""
            },
            "colorscale": [
             [
              0,
              "#0d0887"
             ],
             [
              0.1111111111111111,
              "#46039f"
             ],
             [
              0.2222222222222222,
              "#7201a8"
             ],
             [
              0.3333333333333333,
              "#9c179e"
             ],
             [
              0.4444444444444444,
              "#bd3786"
             ],
             [
              0.5555555555555556,
              "#d8576b"
             ],
             [
              0.6666666666666666,
              "#ed7953"
             ],
             [
              0.7777777777777778,
              "#fb9f3a"
             ],
             [
              0.8888888888888888,
              "#fdca26"
             ],
             [
              1,
              "#f0f921"
             ]
            ],
            "type": "contour"
           }
          ],
          "contourcarpet": [
           {
            "colorbar": {
             "outlinewidth": 0,
             "ticks": ""
            },
            "type": "contourcarpet"
           }
          ],
          "heatmap": [
           {
            "colorbar": {
             "outlinewidth": 0,
             "ticks": ""
            },
            "colorscale": [
             [
              0,
              "#0d0887"
             ],
             [
              0.1111111111111111,
              "#46039f"
             ],
             [
              0.2222222222222222,
              "#7201a8"
             ],
             [
              0.3333333333333333,
              "#9c179e"
             ],
             [
              0.4444444444444444,
              "#bd3786"
             ],
             [
              0.5555555555555556,
              "#d8576b"
             ],
             [
              0.6666666666666666,
              "#ed7953"
             ],
             [
              0.7777777777777778,
              "#fb9f3a"
             ],
             [
              0.8888888888888888,
              "#fdca26"
             ],
             [
              1,
              "#f0f921"
             ]
            ],
            "type": "heatmap"
           }
          ],
          "heatmapgl": [
           {
            "colorbar": {
             "outlinewidth": 0,
             "ticks": ""
            },
            "colorscale": [
             [
              0,
              "#0d0887"
             ],
             [
              0.1111111111111111,
              "#46039f"
             ],
             [
              0.2222222222222222,
              "#7201a8"
             ],
             [
              0.3333333333333333,
              "#9c179e"
             ],
             [
              0.4444444444444444,
              "#bd3786"
             ],
             [
              0.5555555555555556,
              "#d8576b"
             ],
             [
              0.6666666666666666,
              "#ed7953"
             ],
             [
              0.7777777777777778,
              "#fb9f3a"
             ],
             [
              0.8888888888888888,
              "#fdca26"
             ],
             [
              1,
              "#f0f921"
             ]
            ],
            "type": "heatmapgl"
           }
          ],
          "histogram": [
           {
            "marker": {
             "pattern": {
              "fillmode": "overlay",
              "size": 10,
              "solidity": 0.2
             }
            },
            "type": "histogram"
           }
          ],
          "histogram2d": [
           {
            "colorbar": {
             "outlinewidth": 0,
             "ticks": ""
            },
            "colorscale": [
             [
              0,
              "#0d0887"
             ],
             [
              0.1111111111111111,
              "#46039f"
             ],
             [
              0.2222222222222222,
              "#7201a8"
             ],
             [
              0.3333333333333333,
              "#9c179e"
             ],
             [
              0.4444444444444444,
              "#bd3786"
             ],
             [
              0.5555555555555556,
              "#d8576b"
             ],
             [
              0.6666666666666666,
              "#ed7953"
             ],
             [
              0.7777777777777778,
              "#fb9f3a"
             ],
             [
              0.8888888888888888,
              "#fdca26"
             ],
             [
              1,
              "#f0f921"
             ]
            ],
            "type": "histogram2d"
           }
          ],
          "histogram2dcontour": [
           {
            "colorbar": {
             "outlinewidth": 0,
             "ticks": ""
            },
            "colorscale": [
             [
              0,
              "#0d0887"
             ],
             [
              0.1111111111111111,
              "#46039f"
             ],
             [
              0.2222222222222222,
              "#7201a8"
             ],
             [
              0.3333333333333333,
              "#9c179e"
             ],
             [
              0.4444444444444444,
              "#bd3786"
             ],
             [
              0.5555555555555556,
              "#d8576b"
             ],
             [
              0.6666666666666666,
              "#ed7953"
             ],
             [
              0.7777777777777778,
              "#fb9f3a"
             ],
             [
              0.8888888888888888,
              "#fdca26"
             ],
             [
              1,
              "#f0f921"
             ]
            ],
            "type": "histogram2dcontour"
           }
          ],
          "mesh3d": [
           {
            "colorbar": {
             "outlinewidth": 0,
             "ticks": ""
            },
            "type": "mesh3d"
           }
          ],
          "parcoords": [
           {
            "line": {
             "colorbar": {
              "outlinewidth": 0,
              "ticks": ""
             }
            },
            "type": "parcoords"
           }
          ],
          "pie": [
           {
            "automargin": true,
            "type": "pie"
           }
          ],
          "scatter": [
           {
            "fillpattern": {
             "fillmode": "overlay",
             "size": 10,
             "solidity": 0.2
            },
            "type": "scatter"
           }
          ],
          "scatter3d": [
           {
            "line": {
             "colorbar": {
              "outlinewidth": 0,
              "ticks": ""
             }
            },
            "marker": {
             "colorbar": {
              "outlinewidth": 0,
              "ticks": ""
             }
            },
            "type": "scatter3d"
           }
          ],
          "scattercarpet": [
           {
            "marker": {
             "colorbar": {
              "outlinewidth": 0,
              "ticks": ""
             }
            },
            "type": "scattercarpet"
           }
          ],
          "scattergeo": [
           {
            "marker": {
             "colorbar": {
              "outlinewidth": 0,
              "ticks": ""
             }
            },
            "type": "scattergeo"
           }
          ],
          "scattergl": [
           {
            "marker": {
             "colorbar": {
              "outlinewidth": 0,
              "ticks": ""
             }
            },
            "type": "scattergl"
           }
          ],
          "scattermapbox": [
           {
            "marker": {
             "colorbar": {
              "outlinewidth": 0,
              "ticks": ""
             }
            },
            "type": "scattermapbox"
           }
          ],
          "scatterpolar": [
           {
            "marker": {
             "colorbar": {
              "outlinewidth": 0,
              "ticks": ""
             }
            },
            "type": "scatterpolar"
           }
          ],
          "scatterpolargl": [
           {
            "marker": {
             "colorbar": {
              "outlinewidth": 0,
              "ticks": ""
             }
            },
            "type": "scatterpolargl"
           }
          ],
          "scatterternary": [
           {
            "marker": {
             "colorbar": {
              "outlinewidth": 0,
              "ticks": ""
             }
            },
            "type": "scatterternary"
           }
          ],
          "surface": [
           {
            "colorbar": {
             "outlinewidth": 0,
             "ticks": ""
            },
            "colorscale": [
             [
              0,
              "#0d0887"
             ],
             [
              0.1111111111111111,
              "#46039f"
             ],
             [
              0.2222222222222222,
              "#7201a8"
             ],
             [
              0.3333333333333333,
              "#9c179e"
             ],
             [
              0.4444444444444444,
              "#bd3786"
             ],
             [
              0.5555555555555556,
              "#d8576b"
             ],
             [
              0.6666666666666666,
              "#ed7953"
             ],
             [
              0.7777777777777778,
              "#fb9f3a"
             ],
             [
              0.8888888888888888,
              "#fdca26"
             ],
             [
              1,
              "#f0f921"
             ]
            ],
            "type": "surface"
           }
          ],
          "table": [
           {
            "cells": {
             "fill": {
              "color": "#EBF0F8"
             },
             "line": {
              "color": "white"
             }
            },
            "header": {
             "fill": {
              "color": "#C8D4E3"
             },
             "line": {
              "color": "white"
             }
            },
            "type": "table"
           }
          ]
         },
         "layout": {
          "annotationdefaults": {
           "arrowcolor": "#2a3f5f",
           "arrowhead": 0,
           "arrowwidth": 1
          },
          "autotypenumbers": "strict",
          "coloraxis": {
           "colorbar": {
            "outlinewidth": 0,
            "ticks": ""
           }
          },
          "colorscale": {
           "diverging": [
            [
             0,
             "#8e0152"
            ],
            [
             0.1,
             "#c51b7d"
            ],
            [
             0.2,
             "#de77ae"
            ],
            [
             0.3,
             "#f1b6da"
            ],
            [
             0.4,
             "#fde0ef"
            ],
            [
             0.5,
             "#f7f7f7"
            ],
            [
             0.6,
             "#e6f5d0"
            ],
            [
             0.7,
             "#b8e186"
            ],
            [
             0.8,
             "#7fbc41"
            ],
            [
             0.9,
             "#4d9221"
            ],
            [
             1,
             "#276419"
            ]
           ],
           "sequential": [
            [
             0,
             "#0d0887"
            ],
            [
             0.1111111111111111,
             "#46039f"
            ],
            [
             0.2222222222222222,
             "#7201a8"
            ],
            [
             0.3333333333333333,
             "#9c179e"
            ],
            [
             0.4444444444444444,
             "#bd3786"
            ],
            [
             0.5555555555555556,
             "#d8576b"
            ],
            [
             0.6666666666666666,
             "#ed7953"
            ],
            [
             0.7777777777777778,
             "#fb9f3a"
            ],
            [
             0.8888888888888888,
             "#fdca26"
            ],
            [
             1,
             "#f0f921"
            ]
           ],
           "sequentialminus": [
            [
             0,
             "#0d0887"
            ],
            [
             0.1111111111111111,
             "#46039f"
            ],
            [
             0.2222222222222222,
             "#7201a8"
            ],
            [
             0.3333333333333333,
             "#9c179e"
            ],
            [
             0.4444444444444444,
             "#bd3786"
            ],
            [
             0.5555555555555556,
             "#d8576b"
            ],
            [
             0.6666666666666666,
             "#ed7953"
            ],
            [
             0.7777777777777778,
             "#fb9f3a"
            ],
            [
             0.8888888888888888,
             "#fdca26"
            ],
            [
             1,
             "#f0f921"
            ]
           ]
          },
          "colorway": [
           "#636efa",
           "#EF553B",
           "#00cc96",
           "#ab63fa",
           "#FFA15A",
           "#19d3f3",
           "#FF6692",
           "#B6E880",
           "#FF97FF",
           "#FECB52"
          ],
          "font": {
           "color": "#2a3f5f"
          },
          "geo": {
           "bgcolor": "white",
           "lakecolor": "white",
           "landcolor": "#E5ECF6",
           "showlakes": true,
           "showland": true,
           "subunitcolor": "white"
          },
          "hoverlabel": {
           "align": "left"
          },
          "hovermode": "closest",
          "mapbox": {
           "style": "light"
          },
          "paper_bgcolor": "white",
          "plot_bgcolor": "#E5ECF6",
          "polar": {
           "angularaxis": {
            "gridcolor": "white",
            "linecolor": "white",
            "ticks": ""
           },
           "bgcolor": "#E5ECF6",
           "radialaxis": {
            "gridcolor": "white",
            "linecolor": "white",
            "ticks": ""
           }
          },
          "scene": {
           "xaxis": {
            "backgroundcolor": "#E5ECF6",
            "gridcolor": "white",
            "gridwidth": 2,
            "linecolor": "white",
            "showbackground": true,
            "ticks": "",
            "zerolinecolor": "white"
           },
           "yaxis": {
            "backgroundcolor": "#E5ECF6",
            "gridcolor": "white",
            "gridwidth": 2,
            "linecolor": "white",
            "showbackground": true,
            "ticks": "",
            "zerolinecolor": "white"
           },
           "zaxis": {
            "backgroundcolor": "#E5ECF6",
            "gridcolor": "white",
            "gridwidth": 2,
            "linecolor": "white",
            "showbackground": true,
            "ticks": "",
            "zerolinecolor": "white"
           }
          },
          "shapedefaults": {
           "line": {
            "color": "#2a3f5f"
           }
          },
          "ternary": {
           "aaxis": {
            "gridcolor": "white",
            "linecolor": "white",
            "ticks": ""
           },
           "baxis": {
            "gridcolor": "white",
            "linecolor": "white",
            "ticks": ""
           },
           "bgcolor": "#E5ECF6",
           "caxis": {
            "gridcolor": "white",
            "linecolor": "white",
            "ticks": ""
           }
          },
          "title": {
           "x": 0.05
          },
          "xaxis": {
           "automargin": true,
           "gridcolor": "white",
           "linecolor": "white",
           "ticks": "",
           "title": {
            "standoff": 15
           },
           "zerolinecolor": "white",
           "zerolinewidth": 2
          },
          "yaxis": {
           "automargin": true,
           "gridcolor": "white",
           "linecolor": "white",
           "ticks": "",
           "title": {
            "standoff": 15
           },
           "zerolinecolor": "white",
           "zerolinewidth": 2
          }
         }
        },
        "title": {
         "font": {
          "color": "#508ef2"
         },
         "text": "Total Gross Merchandise Value (GMV) by City in DKI Jakarta",
         "x": 0.5
        },
        "xaxis": {
         "anchor": "y",
         "color": "#b5b1b1",
         "domain": [
          0,
          1
         ],
         "tickangle": 45,
         "title": {
          "font": {
           "color": "white",
           "family": "arial",
           "size": 15
          },
          "text": "Order Month"
         }
        },
        "yaxis": {
         "anchor": "x",
         "color": "#b5b1b1",
         "domain": [
          0,
          1
         ],
         "title": {
          "font": {
           "color": "white",
           "family": "arial",
           "size": 15
          },
          "text": "GMV"
         }
        }
       }
      }
     },
     "metadata": {},
     "output_type": "display_data"
    }
   ],
   "source": [
    "# Create multi line chart\n",
    "x = df_montly_agg_by_city['order_month']\n",
    "y = df_montly_agg_by_city['gmv']\n",
    "\n",
    "fig = px.line(\n",
    "    df_montly_agg_by_city, \n",
    "    x=x, \n",
    "    y=y,\n",
    "    color='city'\n",
    ")\n",
    "\n",
    "fig.update_layout(\n",
    "    title='Total Gross Merchandise Value (GMV) by City in DKI Jakarta',\n",
    "    title_font=dict(color='#508ef2'),\n",
    "    title_x = 0.5,\n",
    "    xaxis_title = 'Order Month',\n",
    "    yaxis_title = 'GMV',\n",
    "    paper_bgcolor=\"#000000\",\n",
    "    legend_font_color=\"#FFFFFF\"\n",
    ")\n",
    "\n",
    "fig.update_xaxes(\n",
    "    title_font=dict(\n",
    "        size=15, \n",
    "        family='arial', \n",
    "        color='white'\n",
    "    ),\n",
    "    tickangle = 45,\n",
    "    color='#b5b1b1'\n",
    ")\n",
    "\n",
    "fig.update_yaxes(\n",
    "    title_font=dict(\n",
    "        size=15, \n",
    "        family='arial', \n",
    "        color='white'\n",
    "    ),\n",
    "    color='#b5b1b1'\n",
    ")\n",
    "\n",
    "fig.show()"
   ]
  },
  {
   "cell_type": "markdown",
   "metadata": {},
   "source": [
    "### Dashboarding with Dash"
   ]
  },
  {
   "cell_type": "code",
   "execution_count": 10,
   "metadata": {},
   "outputs": [
    {
     "data": {
      "text/html": [
       "<div>\n",
       "<style scoped>\n",
       "    .dataframe tbody tr th:only-of-type {\n",
       "        vertical-align: middle;\n",
       "    }\n",
       "\n",
       "    .dataframe tbody tr th {\n",
       "        vertical-align: top;\n",
       "    }\n",
       "\n",
       "    .dataframe thead th {\n",
       "        text-align: right;\n",
       "    }\n",
       "</style>\n",
       "<table border=\"1\" class=\"dataframe\">\n",
       "  <thead>\n",
       "    <tr style=\"text-align: right;\">\n",
       "      <th></th>\n",
       "      <th>order_month</th>\n",
       "      <th>city</th>\n",
       "      <th>gmv</th>\n",
       "    </tr>\n",
       "  </thead>\n",
       "  <tbody>\n",
       "    <tr>\n",
       "      <th>0</th>\n",
       "      <td>2019-07</td>\n",
       "      <td>Jakarta Barat</td>\n",
       "      <td>241935000</td>\n",
       "    </tr>\n",
       "    <tr>\n",
       "      <th>1</th>\n",
       "      <td>2019-07</td>\n",
       "      <td>Jakarta Pusat</td>\n",
       "      <td>646077000</td>\n",
       "    </tr>\n",
       "    <tr>\n",
       "      <th>2</th>\n",
       "      <td>2019-07</td>\n",
       "      <td>Jakarta Selatan</td>\n",
       "      <td>578279000</td>\n",
       "    </tr>\n",
       "    <tr>\n",
       "      <th>3</th>\n",
       "      <td>2019-07</td>\n",
       "      <td>Jakarta Timur</td>\n",
       "      <td>167781000</td>\n",
       "    </tr>\n",
       "    <tr>\n",
       "      <th>4</th>\n",
       "      <td>2019-07</td>\n",
       "      <td>Jakarta Utara</td>\n",
       "      <td>317799000</td>\n",
       "    </tr>\n",
       "  </tbody>\n",
       "</table>\n",
       "</div>"
      ],
      "text/plain": [
       "  order_month             city        gmv\n",
       "0     2019-07    Jakarta Barat  241935000\n",
       "1     2019-07    Jakarta Pusat  646077000\n",
       "2     2019-07  Jakarta Selatan  578279000\n",
       "3     2019-07    Jakarta Timur  167781000\n",
       "4     2019-07    Jakarta Utara  317799000"
      ]
     },
     "execution_count": 10,
     "metadata": {},
     "output_type": "execute_result"
    }
   ],
   "source": [
    "df_montly_agg_by_city.head()"
   ]
  },
  {
   "cell_type": "code",
   "execution_count": 11,
   "metadata": {},
   "outputs": [
    {
     "data": {
      "text/plain": [
       "array(['Jakarta Barat', 'Jakarta Pusat', 'Jakarta Selatan',\n",
       "       'Jakarta Timur', 'Jakarta Utara'], dtype=object)"
      ]
     },
     "execution_count": 11,
     "metadata": {},
     "output_type": "execute_result"
    }
   ],
   "source": [
    "available_cities = df_montly_agg_by_city['city'].unique()\n",
    "available_cities"
   ]
  },
  {
   "cell_type": "code",
   "execution_count": 12,
   "metadata": {},
   "outputs": [
    {
     "name": "stdout",
     "output_type": "stream",
     "text": [
      "Dash is running on http://localhost:8005/\n",
      "\n",
      " * Serving Flask app '__main__'\n",
      " * Debug mode: off\n"
     ]
    },
    {
     "name": "stderr",
     "output_type": "stream",
     "text": [
      "WARNING: This is a development server. Do not use it in a production deployment. Use a production WSGI server instead.\n",
      " * Running on http://localhost:8005\n",
      "Press CTRL+C to quit\n",
      "127.0.0.1 - - [23/Oct/2022 22:07:38] \"GET /_favicon.ico?v=2.6.2 HTTP/1.1\" 200 -\n",
      "127.0.0.1 - - [23/Oct/2022 22:07:40] \"GET / HTTP/1.1\" 200 -\n",
      "127.0.0.1 - - [23/Oct/2022 22:07:41] \"GET /_dash-layout HTTP/1.1\" 200 -\n",
      "127.0.0.1 - - [23/Oct/2022 22:07:41] \"GET /_dash-dependencies HTTP/1.1\" 200 -\n",
      "127.0.0.1 - - [23/Oct/2022 22:07:41] \"GET /_favicon.ico?v=2.6.2 HTTP/1.1\" 200 -\n",
      "127.0.0.1 - - [23/Oct/2022 22:07:41] \"GET /_dash-component-suites/dash/dcc/async-dropdown.js HTTP/1.1\" 304 -\n",
      "127.0.0.1 - - [23/Oct/2022 22:07:41] \"GET /_dash-component-suites/dash/dcc/async-graph.js HTTP/1.1\" 304 -\n",
      "127.0.0.1 - - [23/Oct/2022 22:07:41] \"GET /_dash-component-suites/dash/dcc/async-plotlyjs.js HTTP/1.1\" 304 -\n",
      "127.0.0.1 - - [23/Oct/2022 22:07:42] \"POST /_dash-update-component HTTP/1.1\" 200 -\n",
      "127.0.0.1 - - [23/Oct/2022 22:07:48] \"POST /_dash-update-component HTTP/1.1\" 200 -\n",
      "127.0.0.1 - - [23/Oct/2022 22:07:49] \"POST /_dash-update-component HTTP/1.1\" 200 -\n",
      "127.0.0.1 - - [23/Oct/2022 22:07:50] \"POST /_dash-update-component HTTP/1.1\" 200 -\n",
      "127.0.0.1 - - [23/Oct/2022 22:10:59] \"GET /_favicon.ico?v=2.6.2 HTTP/1.1\" 200 -\n",
      "127.0.0.1 - - [23/Oct/2022 22:11:28] \"GET /_favicon.ico?v=2.6.2 HTTP/1.1\" 200 -\n",
      "127.0.0.1 - - [23/Oct/2022 22:13:36] \"GET /_favicon.ico?v=2.6.2 HTTP/1.1\" 200 -\n",
      "127.0.0.1 - - [23/Oct/2022 22:13:56] \"GET /_favicon.ico?v=2.6.2 HTTP/1.1\" 200 -\n"
     ]
    }
   ],
   "source": [
    "# Create a dash app\n",
    "app = dash.Dash()\n",
    "\n",
    "# Dark theme\n",
    "dark_theme = {\n",
    "    \"main-background\": \"#000000\",\n",
    "    \"header-text\": \"#ff7575\",\n",
    "    \"sub-text\": \"#ffd175\",\n",
    "}\n",
    "\n",
    "# Design a layout\n",
    "app.layout = html.Div(\n",
    "    children=[\n",
    "        html.H1(\n",
    "            'Dashboard',\n",
    "            style={\n",
    "                'color':'#508ef2',\n",
    "                'font-size':40,\n",
    "                'text-align':'center'\n",
    "            }\n",
    "        ),\n",
    "        dcc.Dropdown(\n",
    "            id='my-dropdown',\n",
    "            options=[{\n",
    "                'label':k,\n",
    "                'value':k\n",
    "            } for k in available_cities],\n",
    "            value=['Jakarta Selatan', 'Jakarta Pusat'],\n",
    "            multi=True\n",
    "        ),\n",
    "        html.Hr(),\n",
    "        dcc.Graph(id='display-value')\n",
    "    ],\n",
    "    style={\n",
    "        'backgroundColor':dark_theme[\"main-background\"]\n",
    "    }\n",
    ")\n",
    "\n",
    "# Callback\n",
    "@app.callback(\n",
    "    Output(\n",
    "        'display-value',\n",
    "        component_property='figure'\n",
    "    ),\n",
    "    Input(\n",
    "        'my-dropdown',\n",
    "        component_property='value'\n",
    "    )\n",
    ")\n",
    "\n",
    "\n",
    "def update_layout(value):\n",
    "    # Create plot\n",
    "    my_data = df_montly_agg_by_city[df_montly_agg_by_city['city'].isin(value)]\n",
    "    fig_dash = px.line(\n",
    "        my_data, \n",
    "        x='order_month', \n",
    "        y='gmv', \n",
    "        color='city', \n",
    "        template='ggplot2'\n",
    "    )\n",
    "\n",
    "    # Modify title\n",
    "    fig_dash.update_layout(\n",
    "        title='Total Gross Merchandise Value (GMV) by City in DKI Jakarta',\n",
    "        title_font=dict(color='#508ef2'),\n",
    "        title_x = 0.5,\n",
    "        xaxis_title = 'Order Month',\n",
    "        yaxis_title = 'GMV',\n",
    "        paper_bgcolor=\"#000000\",\n",
    "        legend_font_color=\"#FFFFFF\"\n",
    "    )\n",
    "\n",
    "    # Update X & Y Label\n",
    "    fig_dash.update_xaxes(\n",
    "        title_font=dict(\n",
    "            size=15, \n",
    "            family='arial', \n",
    "            color='white'\n",
    "        ),\n",
    "        tickangle = 45,\n",
    "        color='#b5b1b1'\n",
    "    )\n",
    "    fig_dash.update_yaxes(\n",
    "        title_font=dict(\n",
    "            size=15, \n",
    "            family='arial', \n",
    "            color='white'\n",
    "        ),\n",
    "        color='#b5b1b1'\n",
    "    )\n",
    "    return fig_dash\n",
    "\n",
    "# Run app\n",
    "if __name__ == '__main__':\n",
    "    app.run_server(host='localhost', port=8005)"
   ]
  }
 ],
 "metadata": {
  "kernelspec": {
   "display_name": "Python 3.10.3 64-bit",
   "language": "python",
   "name": "python3"
  },
  "language_info": {
   "codemirror_mode": {
    "name": "ipython",
    "version": 3
   },
   "file_extension": ".py",
   "mimetype": "text/x-python",
   "name": "python",
   "nbconvert_exporter": "python",
   "pygments_lexer": "ipython3",
   "version": "3.10.3"
  },
  "orig_nbformat": 4,
  "vscode": {
   "interpreter": {
    "hash": "369f2c481f4da34e4445cda3fffd2e751bd1c4d706f27375911949ba6bb62e1c"
   }
  }
 },
 "nbformat": 4,
 "nbformat_minor": 2
}
